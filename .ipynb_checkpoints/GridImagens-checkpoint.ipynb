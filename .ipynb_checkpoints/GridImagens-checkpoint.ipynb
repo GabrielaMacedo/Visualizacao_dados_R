{
 "cells": [
  {
   "cell_type": "markdown",
   "id": "e80f7c74-7d6d-4f40-babc-2654be4e8e90",
   "metadata": {},
   "source": [
    "1. Importe as Bibliotecas Necessárias"
   ]
  },
  {
   "cell_type": "code",
   "execution_count": 2,
   "id": "187a7da1-db65-4949-bb86-c94ff4fc55c5",
   "metadata": {},
   "outputs": [],
   "source": [
    "import os\n",
    "from PIL import Image\n",
    "import glob\n"
   ]
  },
  {
   "cell_type": "markdown",
   "id": "22d8b38b-f2bc-43c1-b624-9572c5a99da5",
   "metadata": {},
   "source": [
    "2. Defina o Diretório Base e Parâmetros"
   ]
  },
  {
   "cell_type": "code",
   "execution_count": 4,
   "id": "07b7cc13-abcb-40f6-aa6f-d75c80db254f",
   "metadata": {},
   "outputs": [],
   "source": [
    "# Diretório onde estão as subpastas com arquivos PNG\n",
    "base_directory = \"C:/Users/g_mac/OneDrive/Documentos/00_Projetos_Compartilhados/00_Visulizalizacao_de_dados/R\"\n",
    "\n",
    "# Nome do arquivo de saída\n",
    "output_file = \"visualizacao.png\"\n"
   ]
  },
  {
   "cell_type": "markdown",
   "id": "8faa3015-b887-46d3-9885-cd0213ba57f1",
   "metadata": {},
   "source": [
    "3. Função para Criar o Grid de Imagens"
   ]
  },
  {
   "cell_type": "code",
   "execution_count": 6,
   "id": "9770b376-be43-451a-924b-a577997a5a01",
   "metadata": {},
   "outputs": [],
   "source": [
    "def create_image_grid(base_directory, output_file, cols=3):\n",
    "    # Encontre todos os arquivos PNG nas subpastas (ignorar arquivos na raiz)\n",
    "    files = glob.glob(os.path.join(base_directory, '**', '*.png'), recursive=True)\n",
    "    \n",
    "    # Filtrar para ignorar arquivos PNG que estão diretamente na raiz ou em .ipynb_checkpoints\n",
    "    files = [f for f in files if os.path.dirname(f) != base_directory and '.ipynb_checkpoints' not in f]\n",
    "    \n",
    "    # Contar quantos arquivos PNG foram encontrados\n",
    "    num_files = len(files)\n",
    "    print(f\"Número de arquivos PNG encontrados nas subpastas (excluindo .ipynb_checkpoints): {num_files}\")\n",
    "    \n",
    "    if num_files == 0:\n",
    "        print(\"Nenhuma imagem encontrada nas subpastas.\")\n",
    "        return\n",
    "    \n",
    "    # Carregar todas as imagens\n",
    "    images = [Image.open(file) for file in files]\n",
    "    \n",
    "    # Definir tamanho do grid\n",
    "    rows = (len(images) + cols - 1) // cols  # Calcular o número de linhas necessário\n",
    "    widths, heights = zip(*(img.size for img in images))\n",
    "    \n",
    "    # Tamanho da nova imagem\n",
    "    grid_width = max(widths) * cols\n",
    "    grid_height = max(heights) * rows\n",
    "\n",
    "    grid_img = Image.new('RGB', (grid_width, grid_height), color=(255, 255, 255))\n",
    "\n",
    "    # Colar imagens no grid\n",
    "    for i, img in enumerate(images):\n",
    "        x_offset = (i % cols) * max(widths)\n",
    "        y_offset = (i // cols) * max(heights)\n",
    "        grid_img.paste(img, (x_offset, y_offset))\n",
    "    \n",
    "    # Salvar a imagem de saída\n",
    "    grid_img.save(output_file)\n",
    "    print(f\"Imagem de visualização salva em: {output_file}\")\n"
   ]
  },
  {
   "cell_type": "markdown",
   "id": "c3c19d31-90ad-4e16-be4b-21a67817eea4",
   "metadata": {},
   "source": [
    "4. Executar a Função"
   ]
  },
  {
   "cell_type": "code",
   "execution_count": null,
   "id": "a71d2fe4-1ecc-456f-a47b-506bfc2bcc1b",
   "metadata": {},
   "outputs": [
    {
     "name": "stdout",
     "output_type": "stream",
     "text": [
      "Número de arquivos PNG encontrados nas subpastas (excluindo .ipynb_checkpoints): 4\n"
     ]
    }
   ],
   "source": [
    "create_image_grid(base_directory, output_file)\n"
   ]
  },
  {
   "cell_type": "markdown",
   "id": "f706c9dc-7d5a-4aa6-b33a-ab1977bc19a8",
   "metadata": {},
   "source": [
    "5. Visualizar o Resultado no Jupyter Notebook"
   ]
  },
  {
   "cell_type": "code",
   "execution_count": null,
   "id": "526c90c3-4e10-4e64-a892-68c4730f4438",
   "metadata": {},
   "outputs": [],
   "source": [
    "from IPython.display import Image as IPImage, display\n",
    "\n",
    "display(IPImage(filename=output_file))\n"
   ]
  },
  {
   "cell_type": "code",
   "execution_count": null,
   "id": "cbe7b34c-9188-471a-8929-1c07d45c831b",
   "metadata": {},
   "outputs": [],
   "source": []
  },
  {
   "cell_type": "code",
   "execution_count": null,
   "id": "5f447cab-4139-4166-99df-ac9a4a87c300",
   "metadata": {},
   "outputs": [],
   "source": []
  },
  {
   "cell_type": "code",
   "execution_count": null,
   "id": "a7db0815-94e5-4290-a48e-72e07e34742f",
   "metadata": {},
   "outputs": [],
   "source": []
  },
  {
   "cell_type": "code",
   "execution_count": null,
   "id": "6e4abf74-f4cb-4252-ba0e-4b1961e3784e",
   "metadata": {},
   "outputs": [],
   "source": []
  },
  {
   "cell_type": "code",
   "execution_count": null,
   "id": "14d27bbe-0465-49fd-8f1c-5ca8d5f5ec28",
   "metadata": {},
   "outputs": [],
   "source": []
  },
  {
   "cell_type": "code",
   "execution_count": null,
   "id": "fa41737b-4673-4ac0-95e9-ef661ca7a739",
   "metadata": {},
   "outputs": [],
   "source": []
  }
 ],
 "metadata": {
  "kernelspec": {
   "display_name": "Python 3 (ipykernel)",
   "language": "python",
   "name": "python3"
  },
  "language_info": {
   "codemirror_mode": {
    "name": "ipython",
    "version": 3
   },
   "file_extension": ".py",
   "mimetype": "text/x-python",
   "name": "python",
   "nbconvert_exporter": "python",
   "pygments_lexer": "ipython3",
   "version": "3.11.7"
  }
 },
 "nbformat": 4,
 "nbformat_minor": 5
}
